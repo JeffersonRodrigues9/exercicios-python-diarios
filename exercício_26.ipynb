{
  "nbformat": 4,
  "nbformat_minor": 0,
  "metadata": {
    "colab": {
      "provenance": [],
      "authorship_tag": "ABX9TyNvgwWgCAmADPhQl0P8koGS",
      "include_colab_link": true
    },
    "kernelspec": {
      "name": "python3",
      "display_name": "Python 3"
    },
    "language_info": {
      "name": "python"
    }
  },
  "cells": [
    {
      "cell_type": "markdown",
      "metadata": {
        "id": "view-in-github",
        "colab_type": "text"
      },
      "source": [
        "<a href=\"https://colab.research.google.com/github/JeffersonRodrigues9/exercicios-python-diarios/blob/main/exerc%C3%ADcio_26.ipynb\" target=\"_parent\"><img src=\"https://colab.research.google.com/assets/colab-badge.svg\" alt=\"Open In Colab\"/></a>"
      ]
    },
    {
      "cell_type": "code",
      "source": [
        "# Faça um programa que leia uma frase pelo teclado e mostre:\n",
        "# Quantas vezes aparece a letra 'A'\n",
        "# Em que posição ela aparece a primeira vez.\n",
        "# Em que posição ela aparece a última vez."
      ],
      "metadata": {
        "id": "Vp7Ap2yraCjj"
      },
      "execution_count": 30,
      "outputs": []
    },
    {
      "cell_type": "code",
      "source": [
        "frase = str(input('Digite um frase: ')).upper().strip()\n",
        "print('A letra A aparece {} vezes na frase.'.format(frase.count('a')))\n",
        "print('A primeira letra A apareceu na posição {}'.format(frase.find('A')+1))\n",
        "print('A última letra A apareceu na posição {}'.format(frase.rfind('A')+1))"
      ],
      "metadata": {
        "colab": {
          "base_uri": "https://localhost:8080/"
        },
        "id": "UbmivJC8gs7W",
        "outputId": "b97081b1-331a-4c2a-cc4c-2b3aaefc89bc"
      },
      "execution_count": 35,
      "outputs": [
        {
          "output_type": "stream",
          "name": "stdout",
          "text": [
            "Digite um frase:     arara azul\n",
            "A letra A aparece 0 vezes na frase.\n",
            "A primeira letra A apareceu na posição 1\n",
            "A última letra A apareceu na posição 7\n"
          ]
        }
      ]
    }
  ]
}