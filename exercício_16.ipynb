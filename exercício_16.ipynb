{
  "nbformat": 4,
  "nbformat_minor": 0,
  "metadata": {
    "colab": {
      "provenance": [],
      "authorship_tag": "ABX9TyMbbuPO4fEVeGbIqUASp0vP",
      "include_colab_link": true
    },
    "kernelspec": {
      "name": "python3",
      "display_name": "Python 3"
    },
    "language_info": {
      "name": "python"
    }
  },
  "cells": [
    {
      "cell_type": "markdown",
      "metadata": {
        "id": "view-in-github",
        "colab_type": "text"
      },
      "source": [
        "<a href=\"https://colab.research.google.com/github/JeffersonRodrigues9/exercicios-python-diarios/blob/main/exerc%C3%ADcio_16.ipynb\" target=\"_parent\"><img src=\"https://colab.research.google.com/assets/colab-badge.svg\" alt=\"Open In Colab\"/></a>"
      ]
    },
    {
      "cell_type": "code",
      "source": [
        "# Crie um programa que leia um número real qualquer pelo teclado e mostre na tela a sua porção inteira."
      ],
      "metadata": {
        "id": "xdqyw1EY-ano"
      },
      "execution_count": 20,
      "outputs": []
    },
    {
      "cell_type": "code",
      "source": [
        "import math\n",
        "\n",
        "num = float(input('Digite um valor: '))\n",
        "print('O valor digitado foi {} e a porção inteira é {}'.format(num, math.trunc(num)))\n"
      ],
      "metadata": {
        "colab": {
          "base_uri": "https://localhost:8080/"
        },
        "id": "gmUk8Y_6_yYc",
        "outputId": "abbe9872-9ebd-4997-e03d-95fbb6ce70bc"
      },
      "execution_count": 22,
      "outputs": [
        {
          "output_type": "stream",
          "name": "stdout",
          "text": [
            "Digite um valor: 3.1415\n",
            "O valor digitado foi 3.1415 e a porção inteira é 3\n"
          ]
        }
      ]
    }
  ]
}