{
  "nbformat": 4,
  "nbformat_minor": 0,
  "metadata": {
    "colab": {
      "provenance": [],
      "authorship_tag": "ABX9TyMAzCIdOzYPAgmpdm2PsjKS",
      "include_colab_link": true
    },
    "kernelspec": {
      "name": "python3",
      "display_name": "Python 3"
    },
    "language_info": {
      "name": "python"
    }
  },
  "cells": [
    {
      "cell_type": "markdown",
      "metadata": {
        "id": "view-in-github",
        "colab_type": "text"
      },
      "source": [
        "<a href=\"https://colab.research.google.com/github/JeffersonRodrigues9/exercicios-python-diarios/blob/main/exerc%C3%ADcio_34.ipynb\" target=\"_parent\"><img src=\"https://colab.research.google.com/assets/colab-badge.svg\" alt=\"Open In Colab\"/></a>"
      ]
    },
    {
      "cell_type": "code",
      "source": [
        "# Escreva um programa que pergunta o salário do funcionário e calcule o valor do seu aumento.\n",
        "# Para salários superiores a R$1.250,00, calcule um aumento de 10%.\n",
        "# Para os inferiores ou iguais, o aumento é de 15%"
      ],
      "metadata": {
        "id": "xJfjZlk1XEf8"
      },
      "execution_count": 16,
      "outputs": []
    },
    {
      "cell_type": "code",
      "source": [
        "salário = float(input('Qual é o salário do funcionário? R$'))\n",
        "if salário <= 1250:\n",
        "  novo = salário + (salário * 15 / 100)\n",
        "else:\n",
        "  novo = salário + (salário * 10 / 100)\n",
        "print('Quem ganhava R${:.2f} passa a ganhar R${:.2f} agora.'.format(salário, novo))"
      ],
      "metadata": {
        "colab": {
          "base_uri": "https://localhost:8080/"
        },
        "id": "es4mI4sFX5AT",
        "outputId": "e8fe483a-6d91-4485-aee9-7ff8950acc9e"
      },
      "execution_count": 18,
      "outputs": [
        {
          "output_type": "stream",
          "name": "stdout",
          "text": [
            "Qual é o salário do funcionário? R$5000\n",
            "Quem ganhava R$5000.00 passa a ganhar R$5500.00 agora.\n"
          ]
        }
      ]
    }
  ]
}