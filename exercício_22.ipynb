{
  "nbformat": 4,
  "nbformat_minor": 0,
  "metadata": {
    "colab": {
      "provenance": [],
      "authorship_tag": "ABX9TyPtZfq0rVoWR/kebfL6zHF6",
      "include_colab_link": true
    },
    "kernelspec": {
      "name": "python3",
      "display_name": "Python 3"
    },
    "language_info": {
      "name": "python"
    }
  },
  "cells": [
    {
      "cell_type": "markdown",
      "metadata": {
        "id": "view-in-github",
        "colab_type": "text"
      },
      "source": [
        "<a href=\"https://colab.research.google.com/github/JeffersonRodrigues9/exercicios-python-diarios/blob/main/exerc%C3%ADcio_22.ipynb\" target=\"_parent\"><img src=\"https://colab.research.google.com/assets/colab-badge.svg\" alt=\"Open In Colab\"/></a>"
      ]
    },
    {
      "cell_type": "code",
      "source": [
        "# Crie um programa que leia o nome completo de um pessoa e mostre:\n",
        "# O nom com todas as letras maiúsculas e minúsculas.\n",
        "# Quantas letras ao todo (sem considerar espaços)\n",
        "# Quantas letras tem no primeiro nome."
      ],
      "metadata": {
        "id": "bw6ajVtVH8En"
      },
      "execution_count": 3,
      "outputs": []
    },
    {
      "cell_type": "code",
      "source": [
        "nome = str(input('Digite seu nome Completo: '))\n",
        "print('Analisando seu nome...')\n",
        "print('Seu nome em maiúsculas é {}'.format(nome.upper()))\n",
        "print('Seu nome em minúsculas é {}'.format(nome.lower()))\n",
        "print('Seu nome tem ao todo {} letras'.format(len(nome)-nome.count(' ')))\n",
        "print('Seu primeito nome tem {} letras'.format(nome.find(' ')))\n"
      ],
      "metadata": {
        "colab": {
          "base_uri": "https://localhost:8080/"
        },
        "id": "dNauXR1YVzqN",
        "outputId": "0f90d904-d26b-4d70-e303-c15ba01cfccb"
      },
      "execution_count": 10,
      "outputs": [
        {
          "output_type": "stream",
          "name": "stdout",
          "text": [
            "Digite seu nome Completo: Jefferson Rodrigues\n",
            "Analisando seu nome...\n",
            "Seu nome em maiúsculas é JEFFERSON RODRIGUES\n",
            "Seu nome em minúsculas é jefferson rodrigues\n",
            "Seu nome tem ao todo 18 letras\n",
            "Seu primeito nome tem 9 letras\n"
          ]
        }
      ]
    }
  ]
}