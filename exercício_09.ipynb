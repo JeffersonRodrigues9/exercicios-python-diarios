{
  "nbformat": 4,
  "nbformat_minor": 0,
  "metadata": {
    "colab": {
      "provenance": [],
      "authorship_tag": "ABX9TyN8ldnm9hRCcFxBiewhQAkE",
      "include_colab_link": true
    },
    "kernelspec": {
      "name": "python3",
      "display_name": "Python 3"
    },
    "language_info": {
      "name": "python"
    }
  },
  "cells": [
    {
      "cell_type": "markdown",
      "metadata": {
        "id": "view-in-github",
        "colab_type": "text"
      },
      "source": [
        "<a href=\"https://colab.research.google.com/github/JeffersonRodrigues9/exercicios-python-diarios/blob/main/exerc%C3%ADcio_9.ipynb\" target=\"_parent\"><img src=\"https://colab.research.google.com/assets/colab-badge.svg\" alt=\"Open In Colab\"/></a>"
      ]
    },
    {
      "cell_type": "code",
      "source": [
        "# Faça um programa que leia um número inteiro qualquer e mostre no tela a sua tabuada."
      ],
      "metadata": {
        "id": "11kbBE62xr6p"
      },
      "execution_count": 37,
      "outputs": []
    },
    {
      "cell_type": "code",
      "source": [
        "num = int(input(\"Digite um número para ver sua tabuada: \"))\n",
        "print('-' * 12)\n",
        "print('{} x {} = {}'.format(num, 1, num*1))\n",
        "print('{} x {} = {}'.format(num, 2, num*2))\n",
        "print('{} x {} = {}'.format(num, 3, num*3))\n",
        "print('{} x {} = {}'.format(num, 4, num*4))\n",
        "print('{} x {} = {}'.format(num, 5, num*5))\n",
        "print('{} x {} = {}'.format(num, 6, num*6))\n",
        "print('{} x {} = {}'.format(num, 7, num*7))\n",
        "print('{} x {} = {}'.format(num, 8, num*8))\n",
        "print('{} x {} = {}'.format(num, 9, num*9))\n",
        "print('{} x {} = {}'.format(num, 10, num*10))\n",
        "print('-' * 12)\n"
      ],
      "metadata": {
        "colab": {
          "base_uri": "https://localhost:8080/"
        },
        "id": "n1fVjhPXyAUi",
        "outputId": "1e5b6aaa-a8d9-4e5d-f412-19069854ad0f"
      },
      "execution_count": 43,
      "outputs": [
        {
          "output_type": "stream",
          "name": "stdout",
          "text": [
            "Digite um número para ver sua tabuada: 12\n",
            "------------\n",
            "12 x 1 = 12\n",
            "12 x 2 = 24\n",
            "12 x 3 = 36\n",
            "12 x 4 = 48\n",
            "12 x 5 = 60\n",
            "12 x 6 = 72\n",
            "12 x 7 = 84\n",
            "12 x 8 = 96\n",
            "12 x 9 = 108\n",
            "12 x 10 = 120\n",
            "------------\n"
          ]
        }
      ]
    }
  ]
}
