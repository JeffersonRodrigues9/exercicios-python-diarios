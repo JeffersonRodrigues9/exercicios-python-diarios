{
  "nbformat": 4,
  "nbformat_minor": 0,
  "metadata": {
    "colab": {
      "provenance": [],
      "authorship_tag": "ABX9TyNJ4poEY8elnTXnlba1isLW",
      "include_colab_link": true
    },
    "kernelspec": {
      "name": "python3",
      "display_name": "Python 3"
    },
    "language_info": {
      "name": "python"
    }
  },
  "cells": [
    {
      "cell_type": "markdown",
      "metadata": {
        "id": "view-in-github",
        "colab_type": "text"
      },
      "source": [
        "<a href=\"https://colab.research.google.com/github/JeffersonRodrigues9/exercicios-python-diarios/blob/main/exerc%C3%ADcio_3.ipynb\" target=\"_parent\"><img src=\"https://colab.research.google.com/assets/colab-badge.svg\" alt=\"Open In Colab\"/></a>"
      ]
    },
    {
      "cell_type": "code",
      "execution_count": 5,
      "metadata": {
        "id": "TLiWG_FaZAMV"
      },
      "outputs": [],
      "source": [
        "# Crie um programa que leia dois números e mostre a soma entre eles."
      ]
    },
    {
      "cell_type": "code",
      "source": [
        "n1 = int(input('Digite um valor: '))\n",
        "n2 = int(input('Digite outro valor: '))\n",
        "S = n1 + n2\n",
        "print('A soma entre {} e {} é igual a {}!'.format(n1, n2, S))\n"
      ],
      "metadata": {
        "colab": {
          "base_uri": "https://localhost:8080/"
        },
        "id": "9m8SW_Zzb7GP",
        "outputId": "a5361cd4-58c9-4dd5-9cd5-b23ab6504ce7"
      },
      "execution_count": 8,
      "outputs": [
        {
          "output_type": "stream",
          "name": "stdout",
          "text": [
            "Digite um valor: 358\n",
            "Digite outro valor: 768\n",
            "A soma entre 358 e 768 é igual a 1126!\n"
          ]
        }
      ]
    }
  ]
}
