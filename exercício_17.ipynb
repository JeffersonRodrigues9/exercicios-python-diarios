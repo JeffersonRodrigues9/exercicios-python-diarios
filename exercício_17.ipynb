{
  "nbformat": 4,
  "nbformat_minor": 0,
  "metadata": {
    "colab": {
      "provenance": [],
      "authorship_tag": "ABX9TyOenrW1oO5waaBy0Kuluh5a",
      "include_colab_link": true
    },
    "kernelspec": {
      "name": "python3",
      "display_name": "Python 3"
    },
    "language_info": {
      "name": "python"
    }
  },
  "cells": [
    {
      "cell_type": "markdown",
      "metadata": {
        "id": "view-in-github",
        "colab_type": "text"
      },
      "source": [
        "<a href=\"https://colab.research.google.com/github/JeffersonRodrigues9/exercicios-python-diarios/blob/main/exerc%C3%ADcio_17.ipynb\" target=\"_parent\"><img src=\"https://colab.research.google.com/assets/colab-badge.svg\" alt=\"Open In Colab\"/></a>"
      ]
    },
    {
      "cell_type": "code",
      "source": [
        "# Faça um programa que leia o comprimento do cateto oposto e do cateto adjacente de um triângulo retângulo, calcule e mostre o comprimento da hipotenusa."
      ],
      "metadata": {
        "id": "Fx34d2jAAfN0"
      },
      "execution_count": 23,
      "outputs": []
    },
    {
      "cell_type": "code",
      "source": [
        "import math\n",
        "co = float(input('Comprimento do cateto oposto: '))\n",
        "ca = float(input('Comprimento do cateto adiacente: '))\n",
        "hi = math.hypot(co, ca)\n",
        "print('A hipotenusa vai medir {:.2f}'.format(hi))"
      ],
      "metadata": {
        "colab": {
          "base_uri": "https://localhost:8080/"
        },
        "id": "Wxl6nEYJA8-t",
        "outputId": "ea3d7d9a-5a5c-4c3a-c590-713c34f26014"
      },
      "execution_count": 25,
      "outputs": [
        {
          "output_type": "stream",
          "name": "stdout",
          "text": [
            "Comprimento do cateto oposto: 2\n",
            "Comprimento do cateto adiacente: 2.5\n",
            "A hipotenusa vai medir 3.20\n"
          ]
        }
      ]
    }
  ]
}