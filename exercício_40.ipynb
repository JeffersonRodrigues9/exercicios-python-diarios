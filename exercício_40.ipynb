{
  "nbformat": 4,
  "nbformat_minor": 0,
  "metadata": {
    "colab": {
      "provenance": [],
      "authorship_tag": "ABX9TyNYrk5JGhahUnF6ggWpml4W",
      "include_colab_link": true
    },
    "kernelspec": {
      "name": "python3",
      "display_name": "Python 3"
    },
    "language_info": {
      "name": "python"
    }
  },
  "cells": [
    {
      "cell_type": "markdown",
      "metadata": {
        "id": "view-in-github",
        "colab_type": "text"
      },
      "source": [
        "<a href=\"https://colab.research.google.com/github/JeffersonRodrigues9/exercicios-python-diarios/blob/main/exerc%C3%ADcio_40.ipynb\" target=\"_parent\"><img src=\"https://colab.research.google.com/assets/colab-badge.svg\" alt=\"Open In Colab\"/></a>"
      ]
    },
    {
      "cell_type": "code",
      "source": [
        "# Crie um programa que leia duas notas de um aluno e calcule sua média mostrando um mensagem no final, de acordo com a média atingida:\n",
        "# Média abaixo de 5.0: REPROVADO\n",
        "# Média entre 5.0 e 6.9: RECUPERAÇÃO\n",
        "# Média 7.0 ou superior: APROVADO"
      ],
      "metadata": {
        "id": "kDe2HDHPegT4"
      },
      "execution_count": 24,
      "outputs": []
    },
    {
      "cell_type": "code",
      "source": [
        "nota1 = float(input('Primeira nota: '))\n",
        "nota2 = float(input('Segunda nota: '))\n",
        "média = (nota1 + nota2) / 2\n",
        "print('Tirando {:.1f} e {:.1f}, a média do aluno é {:.1f}'.format(nota1, nota2, média))\n",
        "if 7 > média >= 5:\n",
        "  print('O aluno está em RECUPERAÇÃO.')\n",
        "elif média <5:\n",
        "  print('O aluno está REPROVADO.')\n",
        "elif média >= 7:\n",
        "  print('O aluno estpa APROVADO.')\n"
      ],
      "metadata": {
        "colab": {
          "base_uri": "https://localhost:8080/"
        },
        "id": "Gw9wp_vPegaX",
        "outputId": "7c3d7717-e27b-494b-f384-dbc13d06503b"
      },
      "execution_count": 26,
      "outputs": [
        {
          "output_type": "stream",
          "name": "stdout",
          "text": [
            "Primeira nota: 8.5\n",
            "Segunda nota: 5.1\n",
            "Tirando 8.5 e 5.1, a média do aluno é 6.8\n",
            "O aluno está em RECUPERAÇÃO.\n"
          ]
        }
      ]
    }
  ]
}