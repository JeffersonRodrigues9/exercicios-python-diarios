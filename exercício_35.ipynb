{
  "nbformat": 4,
  "nbformat_minor": 0,
  "metadata": {
    "colab": {
      "provenance": [],
      "authorship_tag": "ABX9TyMBsO/xfpmykZH7UkEv6tO/",
      "include_colab_link": true
    },
    "kernelspec": {
      "name": "python3",
      "display_name": "Python 3"
    },
    "language_info": {
      "name": "python"
    }
  },
  "cells": [
    {
      "cell_type": "markdown",
      "metadata": {
        "id": "view-in-github",
        "colab_type": "text"
      },
      "source": [
        "<a href=\"https://colab.research.google.com/github/JeffersonRodrigues9/exercicios-python-diarios/blob/main/exerc%C3%ADcio_35.ipynb\" target=\"_parent\"><img src=\"https://colab.research.google.com/assets/colab-badge.svg\" alt=\"Open In Colab\"/></a>"
      ]
    },
    {
      "cell_type": "code",
      "source": [
        "# Desenvolva um programa que leia o comprimento de três retas e diga ao usuário se elas podem ou não formar um triângulo."
      ],
      "metadata": {
        "id": "9ZTnPM-pYwR6"
      },
      "execution_count": 19,
      "outputs": []
    },
    {
      "cell_type": "code",
      "source": [
        "print('-=-'*20)\n",
        "print('Analisador de triãngulos')\n",
        "print('-=-'*20)\n",
        "r1 = float(input('Primeiro segmento: '))\n",
        "r2 = float(input('Segundo segmento: '))\n",
        "r3 = float(input('Terceiro segmento: '))\n",
        "if r1 < r2 + r3 and r2 < r1 + r3 and r3 < r1 + r2:\n",
        "  print('Os segumentos acima PODEM FORMAR triângulo')\n",
        "else:\n",
        "  print('Os segmentos acima NÃO PODEM FORMAR triângulo')"
      ],
      "metadata": {
        "colab": {
          "base_uri": "https://localhost:8080/"
        },
        "id": "QZ_e8oL-ZQdI",
        "outputId": "320868f7-1f86-4c62-9912-1da5f66c8316"
      },
      "execution_count": 22,
      "outputs": [
        {
          "output_type": "stream",
          "name": "stdout",
          "text": [
            "-=--=--=--=--=--=--=--=--=--=--=--=--=--=--=--=--=--=--=--=-\n",
            "Analisador de triãngulos\n",
            "-=--=--=--=--=--=--=--=--=--=--=--=--=--=--=--=--=--=--=--=-\n",
            "Primeiro segmento: 9\n",
            "Segundo segmento: 7\n",
            "Terceiro segmento: 8\n",
            "Os segumentos acima PODEM FORMAR triângulo\n"
          ]
        }
      ]
    }
  ]
}