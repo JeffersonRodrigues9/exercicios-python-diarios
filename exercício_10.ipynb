{
  "nbformat": 4,
  "nbformat_minor": 0,
  "metadata": {
    "colab": {
      "provenance": [],
      "authorship_tag": "ABX9TyOdqxKFqdR7MD/jugp6A7Xk",
      "include_colab_link": true
    },
    "kernelspec": {
      "name": "python3",
      "display_name": "Python 3"
    },
    "language_info": {
      "name": "python"
    }
  },
  "cells": [
    {
      "cell_type": "markdown",
      "metadata": {
        "id": "view-in-github",
        "colab_type": "text"
      },
      "source": [
        "<a href=\"https://colab.research.google.com/github/JeffersonRodrigues9/exercicios-python-diarios/blob/main/exerc%C3%ADcio_10.ipynb\" target=\"_parent\"><img src=\"https://colab.research.google.com/assets/colab-badge.svg\" alt=\"Open In Colab\"/></a>"
      ]
    },
    {
      "cell_type": "code",
      "source": [
        "# Crie um programa que leia quanto dinheiro uma pessoa tem na carteira e mostre quantos dólares ela pode comprar.\n",
        "# Considere o US$1,00 = R$5,73"
      ],
      "metadata": {
        "id": "lU6W7cKozSwf"
      },
      "execution_count": 44,
      "outputs": []
    },
    {
      "cell_type": "code",
      "source": [
        "real = float(input('Quanto dinheiro você tem na carteira? R$'))\n",
        "dolar = real / 5.73\n",
        "print('Com R${} você pode comprar US${:.2f}'.format(real, dolar))"
      ],
      "metadata": {
        "colab": {
          "base_uri": "https://localhost:8080/"
        },
        "id": "h_qpATKdzS7P",
        "outputId": "3af20627-57c0-4b6c-85ce-f2ac8bb3bb78"
      },
      "execution_count": 49,
      "outputs": [
        {
          "output_type": "stream",
          "name": "stdout",
          "text": [
            "Quanto dinheiro você tem na carteira? R$961\n",
            "Com R$961.0 você pode comprar US$167.71\n"
          ]
        }
      ]
    }
  ]
}