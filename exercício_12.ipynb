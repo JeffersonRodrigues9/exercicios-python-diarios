{
  "nbformat": 4,
  "nbformat_minor": 0,
  "metadata": {
    "colab": {
      "provenance": [],
      "authorship_tag": "ABX9TyM3AbtrvfvACmJUGSGk2o2A",
      "include_colab_link": true
    },
    "kernelspec": {
      "name": "python3",
      "display_name": "Python 3"
    },
    "language_info": {
      "name": "python"
    }
  },
  "cells": [
    {
      "cell_type": "markdown",
      "metadata": {
        "id": "view-in-github",
        "colab_type": "text"
      },
      "source": [
        "<a href=\"https://colab.research.google.com/github/JeffersonRodrigues9/exercicios-python-diarios/blob/main/exerc%C3%ADcio_12.ipynb\" target=\"_parent\"><img src=\"https://colab.research.google.com/assets/colab-badge.svg\" alt=\"Open In Colab\"/></a>"
      ]
    },
    {
      "cell_type": "code",
      "source": [
        "# Faça um algoritmo que leia o preço de um produto e mostre seu novo preço, com 5% de desconto"
      ],
      "metadata": {
        "id": "Oy1WbEDC4bDq"
      },
      "execution_count": 2,
      "outputs": []
    },
    {
      "cell_type": "code",
      "source": [
        "preco = float(input('Qual é o preço do produto? R$'))\n",
        "novo = preco - (preco * 5 / 100)\n",
        "print('O produto que custava R${:.2f}, na promoção com desconto de 5% vai custar R${:.2f}'.format(preco, novo))"
      ],
      "metadata": {
        "colab": {
          "base_uri": "https://localhost:8080/"
        },
        "id": "fvnqcbLY4dGL",
        "outputId": "f5bd05f3-635e-4525-a899-6d4553044ac2"
      },
      "execution_count": 6,
      "outputs": [
        {
          "output_type": "stream",
          "name": "stdout",
          "text": [
            "Qual é o preço do produto? R$927.33\n",
            "O produto que custava R$927.33, na promoção com desconto de 5% vai custar R$880.96\n"
          ]
        }
      ]
    }
  ]
}