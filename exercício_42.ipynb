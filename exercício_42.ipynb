{
  "nbformat": 4,
  "nbformat_minor": 0,
  "metadata": {
    "colab": {
      "provenance": [],
      "authorship_tag": "ABX9TyPHOqofRdrphZdjVWat3YUd",
      "include_colab_link": true
    },
    "kernelspec": {
      "name": "python3",
      "display_name": "Python 3"
    },
    "language_info": {
      "name": "python"
    }
  },
  "cells": [
    {
      "cell_type": "markdown",
      "metadata": {
        "id": "view-in-github",
        "colab_type": "text"
      },
      "source": [
        "<a href=\"https://colab.research.google.com/github/JeffersonRodrigues9/exercicios-python-diarios/blob/main/exerc%C3%ADcio_42.ipynb\" target=\"_parent\"><img src=\"https://colab.research.google.com/assets/colab-badge.svg\" alt=\"Open In Colab\"/></a>"
      ]
    },
    {
      "cell_type": "code",
      "source": [
        "# Refaça o DESAFIO 35 dos triângulos, acrescentando o recurso de mostrar que tipo de triângulo será formado:\n",
        "# EQUILÁTERO: Todos os lados igual\n",
        "# ISÓSCELES: dois lados iguais\n",
        "# ESCALENO: todos os lados diferentes"
      ],
      "metadata": {
        "id": "LExVNVgKUalV"
      },
      "execution_count": 7,
      "outputs": []
    },
    {
      "cell_type": "code",
      "source": [
        "r1 = float(input('Primeiro segmento: '))\n",
        "r2 = float(input('Segundo segmento: '))\n",
        "r3 = float(input('Terceiro segmento: '))\n",
        "\n",
        "if r1 < r2 + r3 and r2 < r1 + r3 and r3 < r1 + r2:\n",
        "    print('Os segmentos acima PODEM FORMAR um triângulo! ', end='')\n",
        "\n",
        "    if r1 == r2 == r3:\n",
        "        print('EQUILÁTERO!')\n",
        "    elif r1 != r2 and r2 != r3 and r3 != r1:\n",
        "        print('ESCALENO!')\n",
        "    else:\n",
        "        print('ISÓCELES!')\n",
        "else:\n",
        "    print('Os segmentos acima NÃO PODEM FORMAR um triângulo')"
      ],
      "metadata": {
        "colab": {
          "base_uri": "https://localhost:8080/"
        },
        "id": "Gy2N_hx-UavN",
        "outputId": "0a786157-fd52-4739-ac53-bd5c4e53d938"
      },
      "execution_count": 14,
      "outputs": [
        {
          "output_type": "stream",
          "name": "stdout",
          "text": [
            "Primeiro segmento: 2\n",
            "Segundo segmento: 5\n",
            "Terceiro segmento: 4\n",
            "Os segmentos acima PODEM FORMAR um triângulo! ESCALENO!\n"
          ]
        }
      ]
    }
  ]
}