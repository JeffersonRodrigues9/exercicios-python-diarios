{
  "nbformat": 4,
  "nbformat_minor": 0,
  "metadata": {
    "colab": {
      "provenance": [],
      "authorship_tag": "ABX9TyNGvxxy/eiiNA+o+ANJr9Sr",
      "include_colab_link": true
    },
    "kernelspec": {
      "name": "python3",
      "display_name": "Python 3"
    },
    "language_info": {
      "name": "python"
    }
  },
  "cells": [
    {
      "cell_type": "markdown",
      "metadata": {
        "id": "view-in-github",
        "colab_type": "text"
      },
      "source": [
        "<a href=\"https://colab.research.google.com/github/JeffersonRodrigues9/exercicios-python-diarios/blob/main/exerc%C3%ADcio_43.ipynb\" target=\"_parent\"><img src=\"https://colab.research.google.com/assets/colab-badge.svg\" alt=\"Open In Colab\"/></a>"
      ]
    },
    {
      "cell_type": "code",
      "source": [
        "# Desenvolva uma lógica que leia o peso e a altura de uma pessoa, calcule seu IMC e mostre seu status, de acordo com a tabela abaixo:\n",
        "# Abaixo de 18.5: Abaixo do peso\n",
        "# Entre 18.5 e 25: Pesso ideal\n",
        "# 25 até 30: Sobrepeso\n",
        "# 30 até 40: Obesidade\n",
        "# Acima de 40: Obesidade mórbida"
      ],
      "metadata": {
        "id": "zCDJrAKBXPPJ"
      },
      "execution_count": 16,
      "outputs": []
    },
    {
      "cell_type": "code",
      "source": [
        "peso = float(input('Qual é seu peso? (Kg) '))\n",
        "altura = float(input('Qual é sua altura? (m) '))\n",
        "imc = peso / (altura ** 2)\n",
        "print('O IMC dessa pessoa é de {:.1f}'.format(imc))\n",
        "if imc < 18.5:\n",
        "  print('VocÇe está ABAIXO DO PESO normal')\n",
        "elif 18.5 <= imc < 25:\n",
        "  print('PARABÉNS, você está na faixa de PESO NORMAL')\n",
        "elif 25 <= imc <30:\n",
        "  print('Você está em SOBREPESO')\n",
        "elif 30 <= imc < 40:\n",
        "  print('Você está em OBESIDADE!')\n",
        "elif imc >=40:\n",
        "  print('Você está em OBESIDADE MÓRBIDA, cuidado!')"
      ],
      "metadata": {
        "colab": {
          "base_uri": "https://localhost:8080/"
        },
        "id": "xtk9q4m7XPYZ",
        "outputId": "9aa0e073-3a2a-4bfc-b923-953cd589cbbf"
      },
      "execution_count": 22,
      "outputs": [
        {
          "output_type": "stream",
          "name": "stdout",
          "text": [
            "Qual é seu peso? (Kg) 76\n",
            "Qual é sua altura? (m) 1.70\n",
            "O IMC dessa pessoa é de 26.3\n",
            "Você está em SOBREPESO\n"
          ]
        }
      ]
    }
  ]
}