{
  "nbformat": 4,
  "nbformat_minor": 0,
  "metadata": {
    "colab": {
      "provenance": [],
      "authorship_tag": "ABX9TyMzwtZwFP6f8tcDpje9jdtA",
      "include_colab_link": true
    },
    "kernelspec": {
      "name": "python3",
      "display_name": "Python 3"
    },
    "language_info": {
      "name": "python"
    }
  },
  "cells": [
    {
      "cell_type": "markdown",
      "metadata": {
        "id": "view-in-github",
        "colab_type": "text"
      },
      "source": [
        "<a href=\"https://colab.research.google.com/github/JeffersonRodrigues9/exercicios-python-diarios/blob/main/exerc%C3%ADcio_13.ipynb\" target=\"_parent\"><img src=\"https://colab.research.google.com/assets/colab-badge.svg\" alt=\"Open In Colab\"/></a>"
      ]
    },
    {
      "cell_type": "code",
      "source": [
        "# Faça um algoritmo que leia o salário de um funcionário e mostre seu novo salário, com 15% de aumento."
      ],
      "metadata": {
        "id": "ua1a_t8H6Q5X"
      },
      "execution_count": 7,
      "outputs": []
    },
    {
      "cell_type": "code",
      "source": [
        "salario = float(input('Qual é o salério do funcionário? R$'))\n",
        "novo = salario + (salario * 15 / 100)\n",
        "print('Um funcionário que gavanha R${:.2f}, com 15% de aumento, passa a receber R${:.2f}'.format(salario,novo))"
      ],
      "metadata": {
        "colab": {
          "base_uri": "https://localhost:8080/"
        },
        "id": "-HJZwnur6oHR",
        "outputId": "c0747381-fe6f-4b8f-f7ca-f1d3cf2a3d53"
      },
      "execution_count": 9,
      "outputs": [
        {
          "output_type": "stream",
          "name": "stdout",
          "text": [
            "Qual é o salério do funcionário? R$4652.55\n",
            "Um funcionário que gavanha R$4652.55, com 15% de aumento, passa a receber R$5350.43\n"
          ]
        }
      ]
    }
  ]
}