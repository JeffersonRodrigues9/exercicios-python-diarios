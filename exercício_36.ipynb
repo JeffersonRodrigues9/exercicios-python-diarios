{
  "nbformat": 4,
  "nbformat_minor": 0,
  "metadata": {
    "colab": {
      "provenance": [],
      "authorship_tag": "ABX9TyMMvZFBvc0y9auhsSPfQ4FF",
      "include_colab_link": true
    },
    "kernelspec": {
      "name": "python3",
      "display_name": "Python 3"
    },
    "language_info": {
      "name": "python"
    }
  },
  "cells": [
    {
      "cell_type": "markdown",
      "metadata": {
        "id": "view-in-github",
        "colab_type": "text"
      },
      "source": [
        "<a href=\"https://colab.research.google.com/github/JeffersonRodrigues9/exercicios-python-diarios/blob/main/exerc%C3%ADcio_36.ipynb\" target=\"_parent\"><img src=\"https://colab.research.google.com/assets/colab-badge.svg\" alt=\"Open In Colab\"/></a>"
      ]
    },
    {
      "cell_type": "code",
      "source": [
        "# Escreva um programa para aprovar o empréstimo bancário para a compra de uma casa. Pergunte om valor da casa, o salário do comprador e em quantos anos ele vai pagar.\n",
        "# A prestação mensal, não pode exceder 30% do salário ou então o empréstimo será negado."
      ],
      "metadata": {
        "id": "ovq6NMuBVl0f"
      },
      "execution_count": 2,
      "outputs": []
    },
    {
      "cell_type": "code",
      "source": [
        "casa = float(input('Valor da casa: R$'))\n",
        "salário = float(input('Salário do comprador: R$'))\n",
        "anos = int(input('Quantos anos de financiamento? '))\n",
        "prestação = casa / (anos * 12)\n",
        "mínimo = salário * 30 / 100\n",
        "\n",
        "print('Para pagar uma casa de R${:.2f} em {} anos'.format(casa, anos))\n",
        "print('A prestação será de R${:.2f}'.format(prestação))\n",
        "\n",
        "if prestação <= mínimo:\n",
        "    print('Empréstimo pode ser CONCEDIDO!')\n",
        "else:\n",
        "    print('Empréstimo NEGADO!')"
      ],
      "metadata": {
        "colab": {
          "base_uri": "https://localhost:8080/"
        },
        "id": "xa1Yo-oQVzbI",
        "outputId": "a361d18e-ad9d-4155-8aef-43aca60152d0"
      },
      "execution_count": 8,
      "outputs": [
        {
          "output_type": "stream",
          "name": "stdout",
          "text": [
            "Valor da casa: R$200000\n",
            "Salário do comprador: R$3500\n",
            "Quantos anos de financiamento? 8\n",
            "Para pagar uma casa de R$200000.00 em 8 anos\n",
            "A prestação será de R$2083.33\n",
            "Empréstimo NEGADO!\n"
          ]
        }
      ]
    }
  ]
}