{
  "nbformat": 4,
  "nbformat_minor": 0,
  "metadata": {
    "colab": {
      "provenance": [],
      "authorship_tag": "ABX9TyMCEpBGnoaZ9fhFwxGtduDA",
      "include_colab_link": true
    },
    "kernelspec": {
      "name": "python3",
      "display_name": "Python 3"
    },
    "language_info": {
      "name": "python"
    }
  },
  "cells": [
    {
      "cell_type": "markdown",
      "metadata": {
        "id": "view-in-github",
        "colab_type": "text"
      },
      "source": [
        "<a href=\"https://colab.research.google.com/github/JeffersonRodrigues9/exercicios-python-diarios/blob/main/exerc%C3%ADcio_29.ipynb\" target=\"_parent\"><img src=\"https://colab.research.google.com/assets/colab-badge.svg\" alt=\"Open In Colab\"/></a>"
      ]
    },
    {
      "cell_type": "code",
      "source": [
        "# Escreva um programa que leia a velociudade de um carro. Se ele ultrapassar 80Km/h, mostre uma mensagem dizendo que ele foi multado.\n",
        "# A multa vai custar R$7,00 por cada Km acima do limite."
      ],
      "metadata": {
        "id": "ehSHcXW7mkyQ"
      },
      "execution_count": 51,
      "outputs": []
    },
    {
      "cell_type": "code",
      "source": [
        "velocidade = float(input('Qual é a a velocidade atual do carro? '))\n",
        "if velocidade > 80:\n",
        "  print('MULTADO! Você excedeu o limite permitido que é 80Km/h')\n",
        "  multa = velocidade * 7\n",
        "  print('Você deve pagar uma multa de R${:.2f}'.format(multa))\n",
        "print('Tenha um bom dia! Dirija com segurança!')"
      ],
      "metadata": {
        "colab": {
          "base_uri": "https://localhost:8080/"
        },
        "id": "zOb3Vet9m0zW",
        "outputId": "9c3f95ba-c947-475c-f948-15df08252ec1"
      },
      "execution_count": 53,
      "outputs": [
        {
          "output_type": "stream",
          "name": "stdout",
          "text": [
            "Qual é a a velocidade atual do carro? 76\n",
            "Tenha um bom dia! Dirija com segurança!\n"
          ]
        }
      ]
    }
  ]
}