{
  "nbformat": 4,
  "nbformat_minor": 0,
  "metadata": {
    "colab": {
      "provenance": [],
      "authorship_tag": "ABX9TyONgQcvyCE/utW6hJ96CNlX",
      "include_colab_link": true
    },
    "kernelspec": {
      "name": "python3",
      "display_name": "Python 3"
    },
    "language_info": {
      "name": "python"
    }
  },
  "cells": [
    {
      "cell_type": "markdown",
      "metadata": {
        "id": "view-in-github",
        "colab_type": "text"
      },
      "source": [
        "<a href=\"https://colab.research.google.com/github/JeffersonRodrigues9/exercicios-python-diarios/blob/main/exerc%C3%ADcio_7.ipynb\" target=\"_parent\"><img src=\"https://colab.research.google.com/assets/colab-badge.svg\" alt=\"Open In Colab\"/></a>"
      ]
    },
    {
      "cell_type": "code",
      "source": [
        "# Desenvolva um programa que leia as duas notas de um aluno, calcule e mostre a sua média"
      ],
      "metadata": {
        "id": "pi5KEV5mnnOi"
      },
      "execution_count": 28,
      "outputs": []
    },
    {
      "cell_type": "code",
      "source": [
        "n1 = float(input('Primeiro nota do aluno: '))\n",
        "n2 = float(input('Segunda nota do aluno: '))\n",
        "media = (n1 + n2) / 2\n",
        "print('A media entre {} e {} é igual a {}'.format(n1, n2, media))"
      ],
      "metadata": {
        "colab": {
          "base_uri": "https://localhost:8080/"
        },
        "id": "LOgnT_v9oBV6",
        "outputId": "f8cd3df5-7487-41d5-cc2b-f6f497bb91a2"
      },
      "execution_count": 30,
      "outputs": [
        {
          "output_type": "stream",
          "name": "stdout",
          "text": [
            "Primeiro nota do aluno: 5.5\n",
            "Segunda nota do aluno: 8.5\n",
            "A media entre 5.5 e 8.5 é igual a 7.0\n"
          ]
        }
      ]
    }
  ]
}
