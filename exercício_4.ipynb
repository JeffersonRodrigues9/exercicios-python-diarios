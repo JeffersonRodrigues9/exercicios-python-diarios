{
  "nbformat": 4,
  "nbformat_minor": 0,
  "metadata": {
    "colab": {
      "provenance": [],
      "authorship_tag": "ABX9TyOsd9bRUJBoau4o5aI1onEu",
      "include_colab_link": true
    },
    "kernelspec": {
      "name": "python3",
      "display_name": "Python 3"
    },
    "language_info": {
      "name": "python"
    }
  },
  "cells": [
    {
      "cell_type": "markdown",
      "metadata": {
        "id": "view-in-github",
        "colab_type": "text"
      },
      "source": [
        "<a href=\"https://colab.research.google.com/github/JeffersonRodrigues9/exercicios-python-diarios/blob/main/exerc%C3%ADcio_4.ipynb\" target=\"_parent\"><img src=\"https://colab.research.google.com/assets/colab-badge.svg\" alt=\"Open In Colab\"/></a>"
      ]
    },
    {
      "cell_type": "code",
      "source": [
        "# Faça um programa que leia alogo pelo teclado e mostre na tela o seu tipo primitivo e todas as informações possiveis sobre ele."
      ],
      "metadata": {
        "id": "sXDZYYi5dRk9"
      },
      "execution_count": 9,
      "outputs": []
    },
    {
      "cell_type": "code",
      "source": [
        "a = input('Digite algo: ')\n",
        "print('O tipo primitivo desse valor é ', type(a))\n",
        "print('Só tem espaços? ', a.isspace())\n",
        "print('É um número? ', a.isnumeric())\n",
        "print('É alfabético? ', a.isalpha())\n",
        "print('É alfanumérico? ', a.isalnum())\n",
        "print('Está em maiúsculas? ', a.isupper())\n",
        "print('Está em minúsculas? ',a.islower())\n",
        "print('ésta capitalizada? ' ,a.istitle())"
      ],
      "metadata": {
        "colab": {
          "base_uri": "https://localhost:8080/"
        },
        "id": "jqB4qNj4dr29",
        "outputId": "38091b78-d214-43a7-b996-55c641c1e9d6"
      },
      "execution_count": 16,
      "outputs": [
        {
          "output_type": "stream",
          "name": "stdout",
          "text": [
            "Digite algo: Jefferson\n",
            "O tipo primitivo desse valor é  <class 'str'>\n",
            "Só tem espaços?  False\n",
            "É um número?  False\n",
            "É alfabético?  True\n",
            "É alfanumérico?  True\n",
            "Está em maiúsculas?  False\n",
            "Está em minúsculas?  False\n",
            "ésta capitalizada?  True\n"
          ]
        }
      ]
    }
  ]
}