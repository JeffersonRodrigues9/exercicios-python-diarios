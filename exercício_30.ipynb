{
  "nbformat": 4,
  "nbformat_minor": 0,
  "metadata": {
    "colab": {
      "provenance": [],
      "authorship_tag": "ABX9TyPJSqwFpQBB5uQISnqCO5J3",
      "include_colab_link": true
    },
    "kernelspec": {
      "name": "python3",
      "display_name": "Python 3"
    },
    "language_info": {
      "name": "python"
    }
  },
  "cells": [
    {
      "cell_type": "markdown",
      "metadata": {
        "id": "view-in-github",
        "colab_type": "text"
      },
      "source": [
        "<a href=\"https://colab.research.google.com/github/JeffersonRodrigues9/exercicios-python-diarios/blob/main/exerc%C3%ADcio_30.ipynb\" target=\"_parent\"><img src=\"https://colab.research.google.com/assets/colab-badge.svg\" alt=\"Open In Colab\"/></a>"
      ]
    },
    {
      "cell_type": "code",
      "source": [
        "# Crie um programa que leia um númeor inteiro e mostre na tela se ele é PAR ou ÍMPAR."
      ],
      "metadata": {
        "id": "w7RB2stzoJDT"
      },
      "execution_count": 54,
      "outputs": []
    },
    {
      "cell_type": "code",
      "source": [
        "from __future__ import print_function\n",
        "número = int(input('Me diga um número qualquer: '))\n",
        "resultado = número % 2\n",
        "if resultado == 0:\n",
        "  print('O número {} é PAR'.format(número))\n",
        "else:\n",
        "  print('O número {} é ÍMPAR',format(número))"
      ],
      "metadata": {
        "colab": {
          "base_uri": "https://localhost:8080/"
        },
        "id": "6I17qB50opgy",
        "outputId": "96361760-db47-4551-a578-9069659f7ff7"
      },
      "execution_count": 56,
      "outputs": [
        {
          "output_type": "stream",
          "name": "stdout",
          "text": [
            "Me diga um número qualquer: 500\n",
            "O número 500 é PAR\n"
          ]
        }
      ]
    }
  ]
}