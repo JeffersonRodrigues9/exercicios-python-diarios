{
  "nbformat": 4,
  "nbformat_minor": 0,
  "metadata": {
    "colab": {
      "provenance": [],
      "authorship_tag": "ABX9TyPYGygEt+vGM8YhnXWrfaU8",
      "include_colab_link": true
    },
    "kernelspec": {
      "name": "python3",
      "display_name": "Python 3"
    },
    "language_info": {
      "name": "python"
    }
  },
  "cells": [
    {
      "cell_type": "markdown",
      "metadata": {
        "id": "view-in-github",
        "colab_type": "text"
      },
      "source": [
        "<a href=\"https://colab.research.google.com/github/JeffersonRodrigues9/exercicios-python-diarios/blob/main/exerc%C3%ADcio_37.ipynb\" target=\"_parent\"><img src=\"https://colab.research.google.com/assets/colab-badge.svg\" alt=\"Open In Colab\"/></a>"
      ]
    },
    {
      "cell_type": "code",
      "source": [
        "# Escreva um programa que leia um númeor inteiro qualquer a peça para o usuário escolher qual será o base de conversão:\n",
        "# 1 para BINÁRIO\n",
        "# 2 para OCTAL\n",
        "# 3 para HEXADECIMAL"
      ],
      "metadata": {
        "id": "avVN2mxTX2iy"
      },
      "execution_count": 9,
      "outputs": []
    },
    {
      "cell_type": "code",
      "source": [
        "num = int(input('Digite um número inteiro: '))\n",
        "print(''' Escolha uma das base para conversão:\n",
        "[ 1 ] converter para BINÁRIO\n",
        "[ 2 ] converter para OCTAL\n",
        "[ 3 ] converter para HEXADECIMAL''')\n",
        "opção = int(input('Sua opção: '))\n",
        "if opção == 1:\n",
        "  print('{} convertido para BINÁRIO é igual a {}'.format(num, bin(num)))\n",
        "elif opção == 2:\n",
        "  print('{} convertido para OCTAL é igual a {}'.format(num, oct(num)))\n",
        "elif opção == 3:\n",
        "  print('{} convertido para HEXADECIMAL é igual a {}'.format(num, hex(num)))\n",
        "else:\n",
        "  print('Opçao inválida. Tente Novamente!')"
      ],
      "metadata": {
        "colab": {
          "base_uri": "https://localhost:8080/"
        },
        "id": "k715LRNIYDKc",
        "outputId": "87625c62-efbc-4f79-ec73-1c4c49491152"
      },
      "execution_count": 10,
      "outputs": [
        {
          "output_type": "stream",
          "name": "stdout",
          "text": [
            "Digite um número inteiro: 321\n",
            " Escolha uma das base para conversão:\n",
            "[ 1 ] converter para BINÁRIO \n",
            "[ 2 ] converter para OCTAL\n",
            "[ 3 ] converter para HEXADECIMAL\n",
            "Sua opção: 3\n",
            "321 convertido para HEXADECIMAL é igual a 0x141\n"
          ]
        }
      ]
    }
  ]
}