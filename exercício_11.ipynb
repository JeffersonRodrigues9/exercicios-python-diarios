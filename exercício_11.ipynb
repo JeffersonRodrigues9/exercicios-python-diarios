{
  "nbformat": 4,
  "nbformat_minor": 0,
  "metadata": {
    "colab": {
      "provenance": [],
      "authorship_tag": "ABX9TyPWlCAlGpzCcK8QfxqDJItt",
      "include_colab_link": true
    },
    "kernelspec": {
      "name": "python3",
      "display_name": "Python 3"
    },
    "language_info": {
      "name": "python"
    }
  },
  "cells": [
    {
      "cell_type": "markdown",
      "metadata": {
        "id": "view-in-github",
        "colab_type": "text"
      },
      "source": [
        "<a href=\"https://colab.research.google.com/github/JeffersonRodrigues9/exercicios-python-diarios/blob/main/exerc%C3%ADcio_11.ipynb\" target=\"_parent\"><img src=\"https://colab.research.google.com/assets/colab-badge.svg\" alt=\"Open In Colab\"/></a>"
      ]
    },
    {
      "cell_type": "code",
      "source": [
        "# Faça um progema que leia a largura e a altura de uma parede em metros, calcule a sua área e a quantidade de tinta necessária para pintá-la, sbaendo que cada litro de tinta, pinta uma área de 2m²"
      ],
      "metadata": {
        "id": "wFlzHxyo1tr9"
      },
      "execution_count": 51,
      "outputs": []
    },
    {
      "cell_type": "code",
      "source": [
        "larg = float(input('Largura da parede: '))\n",
        "alt = float(input('Altura da parede: '))\n",
        "area = larg * alt\n",
        "print('Sua parede tem a dimensão de {}x{} e sua área é de {}m²'.format(larg, alt, area))\n",
        "tinta = area / 2\n",
        "print('Para pintar essa parede, você precisará de {:.1f}l de tinta.'.format(tinta))"
      ],
      "metadata": {
        "colab": {
          "base_uri": "https://localhost:8080/"
        },
        "id": "wQL-rvMl4NUL",
        "outputId": "e8907897-49b3-42e2-f8e0-39234b89e8a9"
      },
      "execution_count": 59,
      "outputs": [
        {
          "output_type": "stream",
          "name": "stdout",
          "text": [
            "Largura da parede: 5\n",
            "Altura da parede: 5\n",
            "Sua parede tem a dimensão de 5.0x5.0 e sua área é de 25.0m²\n",
            "Para pintar essa parede, você precisará de 12.5l de tinta.\n"
          ]
        }
      ]
    }
  ]
}