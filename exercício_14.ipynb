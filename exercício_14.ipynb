{
  "nbformat": 4,
  "nbformat_minor": 0,
  "metadata": {
    "colab": {
      "provenance": [],
      "authorship_tag": "ABX9TyPPs56epKi2Egwtaz91Rv4r",
      "include_colab_link": true
    },
    "kernelspec": {
      "name": "python3",
      "display_name": "Python 3"
    },
    "language_info": {
      "name": "python"
    }
  },
  "cells": [
    {
      "cell_type": "markdown",
      "metadata": {
        "id": "view-in-github",
        "colab_type": "text"
      },
      "source": [
        "<a href=\"https://colab.research.google.com/github/JeffersonRodrigues9/exercicios-python-diarios/blob/main/exerc%C3%ADcio_14.ipynb\" target=\"_parent\"><img src=\"https://colab.research.google.com/assets/colab-badge.svg\" alt=\"Open In Colab\"/></a>"
      ]
    },
    {
      "cell_type": "code",
      "source": [
        "# Escreva um programa que converta uma temperatura digitada em °C e converta °F"
      ],
      "metadata": {
        "id": "dD6zmOgM7mTF"
      },
      "execution_count": 13,
      "outputs": []
    },
    {
      "cell_type": "code",
      "source": [
        "c = float(input('Informa a temperatura em °C: '))\n",
        "f = 9 * c / 5 + 32\n",
        "print('A temperatura de {}°C corresponde a {}°F!'.format(c, f))"
      ],
      "metadata": {
        "colab": {
          "base_uri": "https://localhost:8080/"
        },
        "id": "LCtOXgf37mb0",
        "outputId": "9bf5ba5d-9566-41a5-88d6-b72994df6a69"
      },
      "execution_count": 14,
      "outputs": [
        {
          "output_type": "stream",
          "name": "stdout",
          "text": [
            "Informa a temperatura em °C: 40\n",
            "A temperatura de 40.0°C corresponde a 104.0°F!\n"
          ]
        }
      ]
    }
  ]
}