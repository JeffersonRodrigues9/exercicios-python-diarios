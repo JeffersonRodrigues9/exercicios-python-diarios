{
  "nbformat": 4,
  "nbformat_minor": 0,
  "metadata": {
    "colab": {
      "provenance": [],
      "authorship_tag": "ABX9TyNu/c5UBTtplHk9IVQ1XcBW",
      "include_colab_link": true
    },
    "kernelspec": {
      "name": "python3",
      "display_name": "Python 3"
    },
    "language_info": {
      "name": "python"
    }
  },
  "cells": [
    {
      "cell_type": "markdown",
      "metadata": {
        "id": "view-in-github",
        "colab_type": "text"
      },
      "source": [
        "<a href=\"https://colab.research.google.com/github/JeffersonRodrigues9/exercicios-python-diarios/blob/main/exerc%C3%ADcio_28.ipynb\" target=\"_parent\"><img src=\"https://colab.research.google.com/assets/colab-badge.svg\" alt=\"Open In Colab\"/></a>"
      ]
    },
    {
      "cell_type": "code",
      "source": [
        "# Escreva um programa que faça o computador \"PENSAR\" em um número inteiro entre 0 e 5 e peça para o usuário tentar descobrir qual foi o número escolhido pelo computador. O programa deverá escrever na tela se o usuário venceu ou perdeu."
      ],
      "metadata": {
        "id": "Hw5v59KWkn7a"
      },
      "execution_count": 42,
      "outputs": []
    },
    {
      "cell_type": "code",
      "source": [
        "from random import randint"
      ],
      "metadata": {
        "id": "mO30msiFkoDB"
      },
      "execution_count": 44,
      "outputs": []
    },
    {
      "cell_type": "code",
      "source": [
        "computador = randint(0, 5)  # Faz o computador 'PENSAR'\n",
        "print('-=-' * 20)\n",
        "print('Vou pensar em um número entre 0 e 5. Tente adivinhar...')\n",
        "print('-=-' * 20)\n",
        "jogador = int(input('Em que número eu pensei? '))  # Jogador tenta adivinhar\n",
        "\n",
        "if jogador == computador:\n",
        "    print('PARABÉNS! Você conseguiu me vencer!')\n",
        "else:\n",
        "    print('GANHEI! Eu pensei no número {} e não no {}!'.format(computador, jogador))\n"
      ],
      "metadata": {
        "colab": {
          "base_uri": "https://localhost:8080/"
        },
        "id": "gqBVmeEWlCJP",
        "outputId": "9ff5584f-468b-46cd-d002-4bec69c1e901"
      },
      "execution_count": 49,
      "outputs": [
        {
          "output_type": "stream",
          "name": "stdout",
          "text": [
            "-=--=--=--=--=--=--=--=--=--=--=--=--=--=--=--=--=--=--=--=-\n",
            "Vou pensar em um número entre 0 e 5. Tente adivinhar...\n",
            "-=--=--=--=--=--=--=--=--=--=--=--=--=--=--=--=--=--=--=--=-\n",
            "Em que número eu pensei? 1\n",
            "PARABÉNS! Você conseguiu me vencer!\n"
          ]
        }
      ]
    }
  ]
}