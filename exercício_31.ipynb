{
  "nbformat": 4,
  "nbformat_minor": 0,
  "metadata": {
    "colab": {
      "provenance": [],
      "authorship_tag": "ABX9TyPxxCcU0BTks4VKa3sX28du",
      "include_colab_link": true
    },
    "kernelspec": {
      "name": "python3",
      "display_name": "Python 3"
    },
    "language_info": {
      "name": "python"
    }
  },
  "cells": [
    {
      "cell_type": "markdown",
      "metadata": {
        "id": "view-in-github",
        "colab_type": "text"
      },
      "source": [
        "<a href=\"https://colab.research.google.com/github/JeffersonRodrigues9/exercicios-python-diarios/blob/main/exerc%C3%ADcio_31.ipynb\" target=\"_parent\"><img src=\"https://colab.research.google.com/assets/colab-badge.svg\" alt=\"Open In Colab\"/></a>"
      ]
    },
    {
      "cell_type": "code",
      "source": [
        "# Desenvolva um programa que pergunte a distância de uma viagem em Km. Calcule o preço da passagem, cobrando R$0,50 por Km para viagens até 200Km e R$0,45 para viagens mais longas."
      ],
      "metadata": {
        "id": "lIgIy2juRKkC"
      },
      "execution_count": 1,
      "outputs": []
    },
    {
      "cell_type": "code",
      "source": [
        "distancia = float(input('Qual é a distancia da sua viagem? '))\n",
        "print('Você está prestes a começar uma viagem de {}km'.format(distancia))\n",
        "if distancia <= 200:\n",
        "  preco = distancia * 0.50\n",
        "else:\n",
        "  preco = distancia * 0.45\n",
        "print('E o preco da sua passagem será de R${:.2f}'.format(preco))"
      ],
      "metadata": {
        "colab": {
          "base_uri": "https://localhost:8080/"
        },
        "id": "RlmK015nRcTz",
        "outputId": "6b98204e-18dc-4576-8d5e-6264f1c01c7f"
      },
      "execution_count": 3,
      "outputs": [
        {
          "output_type": "stream",
          "name": "stdout",
          "text": [
            "Qual é a distancia da sua viagem? 1000\n",
            "Você está prestes a começar uma viagem de 1000.0km\n",
            "E o preco da sua passagem será de R$450.00\n"
          ]
        }
      ]
    },
    {
      "cell_type": "code",
      "source": [],
      "metadata": {
        "id": "REYP8G2ESTgn"
      },
      "execution_count": null,
      "outputs": []
    }
  ]
}