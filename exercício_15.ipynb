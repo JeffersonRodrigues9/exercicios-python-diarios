{
  "nbformat": 4,
  "nbformat_minor": 0,
  "metadata": {
    "colab": {
      "provenance": [],
      "authorship_tag": "ABX9TyMA6Ne29uPRL/9/GGzub5Sz",
      "include_colab_link": true
    },
    "kernelspec": {
      "name": "python3",
      "display_name": "Python 3"
    },
    "language_info": {
      "name": "python"
    }
  },
  "cells": [
    {
      "cell_type": "markdown",
      "metadata": {
        "id": "view-in-github",
        "colab_type": "text"
      },
      "source": [
        "<a href=\"https://colab.research.google.com/github/JeffersonRodrigues9/exercicios-python-diarios/blob/main/exerc%C3%ADcio_15.ipynb\" target=\"_parent\"><img src=\"https://colab.research.google.com/assets/colab-badge.svg\" alt=\"Open In Colab\"/></a>"
      ]
    },
    {
      "cell_type": "code",
      "source": [
        "# Escreva um programa que pergunta a quantidade de KM percorridos por um carro alugado e a quantidade de dias pelos quais ele foi alugado. Calcule o preço a pagar, sabendo que o carro custa R$60 por dia e R$0,15 por KM rodado."
      ],
      "metadata": {
        "id": "kV3dlI8t9FIi"
      },
      "execution_count": 15,
      "outputs": []
    },
    {
      "cell_type": "code",
      "source": [
        "dias = int(input('Quantos dias alugados? '))\n",
        "Km = float(input('Quantos Km rodados? '))\n",
        "pago = (dias * 60) + (Km * 0.15)\n",
        "print('O total a pagar é de R${:.2f}'.format(pago))"
      ],
      "metadata": {
        "colab": {
          "base_uri": "https://localhost:8080/"
        },
        "id": "V0b20nh_9FRh",
        "outputId": "ebd7066a-a32b-4634-ffc5-0cf6d9801a1b"
      },
      "execution_count": 18,
      "outputs": [
        {
          "output_type": "stream",
          "name": "stdout",
          "text": [
            "Quantos dias alugados? 3\n",
            "Quantos Km rodados? 350\n",
            "O total a pagar é de R$232.50\n"
          ]
        }
      ]
    }
  ]
}