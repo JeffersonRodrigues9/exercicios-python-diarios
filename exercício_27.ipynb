{
  "nbformat": 4,
  "nbformat_minor": 0,
  "metadata": {
    "colab": {
      "provenance": [],
      "authorship_tag": "ABX9TyOlvgiz0gdIRzhfPqvBZPUE",
      "include_colab_link": true
    },
    "kernelspec": {
      "name": "python3",
      "display_name": "Python 3"
    },
    "language_info": {
      "name": "python"
    }
  },
  "cells": [
    {
      "cell_type": "markdown",
      "metadata": {
        "id": "view-in-github",
        "colab_type": "text"
      },
      "source": [
        "<a href=\"https://colab.research.google.com/github/JeffersonRodrigues9/exercicios-python-diarios/blob/main/exerc%C3%ADcio_27.ipynb\" target=\"_parent\"><img src=\"https://colab.research.google.com/assets/colab-badge.svg\" alt=\"Open In Colab\"/></a>"
      ]
    },
    {
      "cell_type": "code",
      "source": [
        "# Faça um programa que leia o nome compelto de uma pessoa, mostrando em seguida o primeiro e o último nome separadamente."
      ],
      "metadata": {
        "id": "aCo2walth_ww"
      },
      "execution_count": 36,
      "outputs": []
    },
    {
      "cell_type": "code",
      "source": [
        "n = str(input('Digite seu nome completo: ')).strip()\n",
        "nome = n.split()\n",
        "print('Muito prazer em te conhecer!')\n",
        "print('Seu primeiro nome é {}'.format(nome[0]))\n",
        "print('Seu último nome é {}'.format(nome[-1]))\n"
      ],
      "metadata": {
        "colab": {
          "base_uri": "https://localhost:8080/"
        },
        "id": "EyZURt2ajikD",
        "outputId": "22706639-cd0a-434d-fa09-33ffcab5249b"
      },
      "execution_count": 40,
      "outputs": [
        {
          "output_type": "stream",
          "name": "stdout",
          "text": [
            "Digite seu nome completo: Jefferson Rodrigues da Silva\n",
            "Muito prazer em te conhecer!\n",
            "Seu primeiro nome é Jefferson\n",
            "Seu último nome é Silva\n"
          ]
        }
      ]
    }
  ]
}