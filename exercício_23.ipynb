{
  "nbformat": 4,
  "nbformat_minor": 0,
  "metadata": {
    "colab": {
      "provenance": [],
      "authorship_tag": "ABX9TyOqJGk4q5Sat/X67mhdixTw",
      "include_colab_link": true
    },
    "kernelspec": {
      "name": "python3",
      "display_name": "Python 3"
    },
    "language_info": {
      "name": "python"
    }
  },
  "cells": [
    {
      "cell_type": "markdown",
      "metadata": {
        "id": "view-in-github",
        "colab_type": "text"
      },
      "source": [
        "<a href=\"https://colab.research.google.com/github/JeffersonRodrigues9/exercicios-python-diarios/blob/main/exerc%C3%ADcio_23.ipynb\" target=\"_parent\"><img src=\"https://colab.research.google.com/assets/colab-badge.svg\" alt=\"Open In Colab\"/></a>"
      ]
    },
    {
      "cell_type": "code",
      "source": [
        "# Faça um programa que leia um númerp de 0 a 9999 e mostre na tela cada um dos digitos separados."
      ],
      "metadata": {
        "id": "3vF97YpFX9Ve"
      },
      "execution_count": 11,
      "outputs": []
    },
    {
      "cell_type": "code",
      "source": [
        "num = int(input('Informe um número: '))\n",
        "\n",
        "u = num // 1 % 10  # Unidade\n",
        "d = num // 10 % 10  # Dezena\n",
        "c = num // 100 % 10  # Centena\n",
        "m = num // 1000 % 10  # Milhar\n",
        "\n",
        "print('Analisando o número {}'.format(num))\n",
        "print('Unidade: {}'.format(u))\n",
        "print('Dezena: {}'.format(d))\n",
        "print('Centena: {}'.format(c))\n",
        "print('Milhar: {}'.format(m))\n"
      ],
      "metadata": {
        "colab": {
          "base_uri": "https://localhost:8080/"
        },
        "id": "BqV5wAJAYOtV",
        "outputId": "83b85ae1-b1d8-4970-b6fc-c37e628945a5"
      },
      "execution_count": 16,
      "outputs": [
        {
          "output_type": "stream",
          "name": "stdout",
          "text": [
            "Informe um número: 1234\n",
            "Analisando o número 1234\n",
            "Unidade: 4\n",
            "Dezena: 3\n",
            "Centena: 2\n",
            "Milhar: 1\n"
          ]
        }
      ]
    }
  ]
}