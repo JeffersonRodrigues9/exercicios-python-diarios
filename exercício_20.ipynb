{
  "nbformat": 4,
  "nbformat_minor": 0,
  "metadata": {
    "colab": {
      "provenance": [],
      "authorship_tag": "ABX9TyOtNYcHT0j3X29Nqi3d9byu",
      "include_colab_link": true
    },
    "kernelspec": {
      "name": "python3",
      "display_name": "Python 3"
    },
    "language_info": {
      "name": "python"
    }
  },
  "cells": [
    {
      "cell_type": "markdown",
      "metadata": {
        "id": "view-in-github",
        "colab_type": "text"
      },
      "source": [
        "<a href=\"https://colab.research.google.com/github/JeffersonRodrigues9/exercicios-python-diarios/blob/main/exerc%C3%ADcio_20.ipynb\" target=\"_parent\"><img src=\"https://colab.research.google.com/assets/colab-badge.svg\" alt=\"Open In Colab\"/></a>"
      ]
    },
    {
      "cell_type": "code",
      "source": [
        "# O mesmo professor do desafio anterior quer sortear a ordem de apresentação de trabalhos dos alunos. Faça um programa que leia o nome dos quatros alunos e mostre a ordem sorteada."
      ],
      "metadata": {
        "id": "fJESfQTWGpmC"
      },
      "execution_count": 32,
      "outputs": []
    },
    {
      "cell_type": "code",
      "source": [
        "import random\n",
        "n1 = str(input('Primeiro aluno: '))\n",
        "n2 = str(input('Segundo aluno: '))\n",
        "n3 = str(input('Terceiro aluno: '))\n",
        "n4 = str(input('Quarto aluno: '))\n",
        "lista = [n1, n2, n3, n4]\n",
        "random.shuffle(lista)\n",
        "print('A ordem de apresentação será ')\n",
        "print(lista)"
      ],
      "metadata": {
        "colab": {
          "base_uri": "https://localhost:8080/"
        },
        "id": "SFFn4foYHLAB",
        "outputId": "2bd747f5-f278-48d2-d105-291f67aae5eb"
      },
      "execution_count": 34,
      "outputs": [
        {
          "output_type": "stream",
          "name": "stdout",
          "text": [
            "Primeiro aluno: Ana \n",
            "Segundo aluno: Jose\n",
            "Terceiro aluno: Paulo\n",
            "Quarto aluno: Pedro\n",
            "A ordem de apresentação será \n",
            "['Ana ', 'Paulo', 'Pedro', 'Jose']\n"
          ]
        }
      ]
    }
  ]
}