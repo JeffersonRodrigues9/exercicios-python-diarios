{
  "nbformat": 4,
  "nbformat_minor": 0,
  "metadata": {
    "colab": {
      "provenance": [],
      "authorship_tag": "ABX9TyPn5guCWWjFjRr2hcgRAZvY",
      "include_colab_link": true
    },
    "kernelspec": {
      "name": "python3",
      "display_name": "Python 3"
    },
    "language_info": {
      "name": "python"
    }
  },
  "cells": [
    {
      "cell_type": "markdown",
      "metadata": {
        "id": "view-in-github",
        "colab_type": "text"
      },
      "source": [
        "<a href=\"https://colab.research.google.com/github/JeffersonRodrigues9/exercicios-python-diarios/blob/main/exerc%C3%ADcio_18.ipynb\" target=\"_parent\"><img src=\"https://colab.research.google.com/assets/colab-badge.svg\" alt=\"Open In Colab\"/></a>"
      ]
    },
    {
      "cell_type": "code",
      "source": [
        "# Faça um programa que leia um ângulo qualquer e mostre na tela o valor do seno, cosseno e tangente desse ângulo."
      ],
      "metadata": {
        "id": "2eg3qVMtCJ09"
      },
      "execution_count": 26,
      "outputs": []
    },
    {
      "cell_type": "code",
      "source": [
        "import math\n",
        "\n",
        "angulo = float(input('Digite o ângulo que você deseja: '))\n",
        "seno = math.sin(math.radians(angulo))\n",
        "print('O ângulo de {} tem o SENO de {:.2f}'.format(angulo, seno))\n",
        "cosseno = math.cos(math.radians(angulo))\n",
        "print('O ângulo de {} tem o COSSENO de {:.2f}'.format(angulo, cosseno))\n",
        "tangente = math.tan(math.radians(angulo))\n",
        "print('O ângulo de {} tem a TANGENTE de {:.2f}'.format(angulo, tangente))"
      ],
      "metadata": {
        "colab": {
          "base_uri": "https://localhost:8080/"
        },
        "id": "KsCcTuuICagR",
        "outputId": "ce711a6d-0684-4a30-9c2b-41d2f9021b83"
      },
      "execution_count": 29,
      "outputs": [
        {
          "output_type": "stream",
          "name": "stdout",
          "text": [
            "Digite o ângulo que você deseja: 30\n",
            "O ângulo de 30.0 tem o SENO de 0.50\n",
            "O ângulo de 30.0 tem o COSSENO de 0.87\n",
            "O ângulo de 30.0 tem a TANGENTE de 0.58\n"
          ]
        }
      ]
    }
  ]
}