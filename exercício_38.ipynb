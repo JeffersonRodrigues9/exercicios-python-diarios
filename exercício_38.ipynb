{
  "nbformat": 4,
  "nbformat_minor": 0,
  "metadata": {
    "colab": {
      "provenance": [],
      "authorship_tag": "ABX9TyPBza8XccE9aQRE36EUzAf0",
      "include_colab_link": true
    },
    "kernelspec": {
      "name": "python3",
      "display_name": "Python 3"
    },
    "language_info": {
      "name": "python"
    }
  },
  "cells": [
    {
      "cell_type": "markdown",
      "metadata": {
        "id": "view-in-github",
        "colab_type": "text"
      },
      "source": [
        "<a href=\"https://colab.research.google.com/github/JeffersonRodrigues9/exercicios-python-diarios/blob/main/exerc%C3%ADcio_38.ipynb\" target=\"_parent\"><img src=\"https://colab.research.google.com/assets/colab-badge.svg\" alt=\"Open In Colab\"/></a>"
      ]
    },
    {
      "cell_type": "code",
      "source": [
        "# Escreva um programa que leia dois númeors inteiros e compare-os mostrando na tela um mensagem:\n",
        "# O primeiro valor é maior\n",
        "# O segundo valor é maior\n",
        "# Não existe valor maior, os dois são iguais."
      ],
      "metadata": {
        "id": "M1WHqa-QZuhP"
      },
      "execution_count": 11,
      "outputs": []
    },
    {
      "cell_type": "code",
      "source": [
        "n1 = int(input('Primeiro número: '))\n",
        "n2 = int(input('Segundo número: '))\n",
        "if n1 > n2:\n",
        "  print('O PRIMEIRO valor é maior')\n",
        "elif n2 > n1:\n",
        "  print('O SEGUNDO valor é maior')\n",
        "elif n1 == n2:\n",
        "  print('Os dois valores são IGUAIS')"
      ],
      "metadata": {
        "colab": {
          "base_uri": "https://localhost:8080/"
        },
        "id": "B_5uKkILZurH",
        "outputId": "062e13cd-db8a-4323-ee92-914f3d7c058d"
      },
      "execution_count": 13,
      "outputs": [
        {
          "output_type": "stream",
          "name": "stdout",
          "text": [
            "Primeiro número: 10\n",
            "Segundo número: 10\n",
            "Os dois valores são IGUAIS\n"
          ]
        }
      ]
    }
  ]
}