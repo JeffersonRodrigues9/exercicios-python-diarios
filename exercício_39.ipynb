{
  "nbformat": 4,
  "nbformat_minor": 0,
  "metadata": {
    "colab": {
      "provenance": [],
      "authorship_tag": "ABX9TyNg/S+6RedIQQf5iqB/5lKJ",
      "include_colab_link": true
    },
    "kernelspec": {
      "name": "python3",
      "display_name": "Python 3"
    },
    "language_info": {
      "name": "python"
    }
  },
  "cells": [
    {
      "cell_type": "markdown",
      "metadata": {
        "id": "view-in-github",
        "colab_type": "text"
      },
      "source": [
        "<a href=\"https://colab.research.google.com/github/JeffersonRodrigues9/exercicios-python-diarios/blob/main/exerc%C3%ADcio_39.ipynb\" target=\"_parent\"><img src=\"https://colab.research.google.com/assets/colab-badge.svg\" alt=\"Open In Colab\"/></a>"
      ]
    },
    {
      "cell_type": "code",
      "source": [
        "# Faça um programa que leia o ano de nascimento de um jovem e informe, de aocrdo com sua idade, se ela ainda vai se alistar ao serviço militar, se é a hora de se alistar ou se já passou do tempo do alistamento. Seu programa também deverpa mostrar o tempo que falta ou que passou do prazo."
      ],
      "metadata": {
        "id": "JmGPBe-zbtUs"
      },
      "execution_count": 14,
      "outputs": []
    },
    {
      "cell_type": "code",
      "source": [
        "from datetime import date\n",
        "\n",
        "atual = date.today().year\n",
        "nasc = int(input('Ano de nascimento: '))\n",
        "idade = atual - nasc\n",
        "\n",
        "print('Quem nasceu em {} tem {} anos em {}.'.format(nasc, idade, atual))\n",
        "\n",
        "if idade == 18:\n",
        "    print('Você tem que se alistar IMEDIATAMENTE!')\n",
        "elif idade < 18:\n",
        "    saldo = 18 - idade\n",
        "    print('Ainda falta {} ano(s) para o alistamento.'.format(saldo))\n",
        "else:\n",
        "    saldo = idade - 18\n",
        "    print('Você já deveria ter se alistado há {} ano(s).'.format(saldo))\n",
        "\n",
        "if idade < 18:\n",
        "    print(f'Ainda restam {saldo} ano(s) para o seu alistamento ao serviço militar.')\n",
        "elif idade == 18:\n",
        "    print(f'Você tem exatamente 18 anos, aliste-se agora!')\n",
        "else:\n",
        "    print(f'O prazo para seu alistamento já passou há {saldo} anos. Você deve regularizar sua situação.')\n",
        "\n"
      ],
      "metadata": {
        "colab": {
          "base_uri": "https://localhost:8080/"
        },
        "id": "i3ys_zVjbteD",
        "outputId": "32fd39e0-7d4a-4c2c-d840-47ba6ae809da"
      },
      "execution_count": 22,
      "outputs": [
        {
          "output_type": "stream",
          "name": "stdout",
          "text": [
            "Ano de nascimento: 2000\n",
            "Quem nasceu em 2000 tem 25 anos em 2025.\n",
            "Você já deveria ter se alistado há 7 ano(s).\n",
            "O prazo para seu alistamento já passou há 7 anos. Você deve regularizar sua situação.\n"
          ]
        }
      ]
    }
  ]
}