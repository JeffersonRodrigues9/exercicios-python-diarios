{
  "nbformat": 4,
  "nbformat_minor": 0,
  "metadata": {
    "colab": {
      "provenance": [],
      "authorship_tag": "ABX9TyMyCVM3KUe1ON1pwSPVeDa8",
      "include_colab_link": true
    },
    "kernelspec": {
      "name": "python3",
      "display_name": "Python 3"
    },
    "language_info": {
      "name": "python"
    }
  },
  "cells": [
    {
      "cell_type": "markdown",
      "metadata": {
        "id": "view-in-github",
        "colab_type": "text"
      },
      "source": [
        "<a href=\"https://colab.research.google.com/github/JeffersonRodrigues9/exercicios-python-diarios/blob/main/exerc%C3%ADcio_6.ipynb\" target=\"_parent\"><img src=\"https://colab.research.google.com/assets/colab-badge.svg\" alt=\"Open In Colab\"/></a>"
      ]
    },
    {
      "cell_type": "code",
      "source": [
        "# Crie um algoritmo que leia um número e mostre o seu dobro, triplo e raiz quadrada."
      ],
      "metadata": {
        "id": "PY5VhYEkmLjV"
      },
      "execution_count": 22,
      "outputs": []
    },
    {
      "cell_type": "code",
      "source": [
        "n = int(input('Digite um número: '))\n",
        "d = n * 2\n",
        "t = n * 3\n",
        "r = n ** (1/2)\n",
        "print('O dobro de {} vale {}.'.format(n, d))\n",
        "print('O triplo de {} vale {}. \\nA raiz quadrada de {} é igual {:.2f}.'.format(n, t, n, r))"
      ],
      "metadata": {
        "colab": {
          "base_uri": "https://localhost:8080/"
        },
        "id": "iZsgEkrMmSWs",
        "outputId": "f20e72ad-4011-484d-f987-ef55bb142122"
      },
      "execution_count": 27,
      "outputs": [
        {
          "output_type": "stream",
          "name": "stdout",
          "text": [
            "Digite um número: 128\n",
            "O dobro de 128 vale 256.\n",
            "O triplo de 128 vale 384. \n",
            "A raiz quadrada de 128 é igual 11.31.\n"
          ]
        }
      ]
    }
  ]
}
