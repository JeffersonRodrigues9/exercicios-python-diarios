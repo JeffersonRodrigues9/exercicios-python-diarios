{
  "nbformat": 4,
  "nbformat_minor": 0,
  "metadata": {
    "colab": {
      "provenance": [],
      "authorship_tag": "ABX9TyP4u0v8yVUMaNQyyhPkaM7W",
      "include_colab_link": true
    },
    "kernelspec": {
      "name": "python3",
      "display_name": "Python 3"
    },
    "language_info": {
      "name": "python"
    }
  },
  "cells": [
    {
      "cell_type": "markdown",
      "metadata": {
        "id": "view-in-github",
        "colab_type": "text"
      },
      "source": [
        "<a href=\"https://colab.research.google.com/github/JeffersonRodrigues9/exercicios-python-diarios/blob/main/exerc%C3%ADcio_8.ipynb\" target=\"_parent\"><img src=\"https://colab.research.google.com/assets/colab-badge.svg\" alt=\"Open In Colab\"/></a>"
      ]
    },
    {
      "cell_type": "code",
      "source": [
        "# Escreva um programa que leia um valor em metros e o exiba convertido em centímetros e milímetros."
      ],
      "metadata": {
        "id": "sgRrYPiGrpkB"
      },
      "execution_count": 31,
      "outputs": []
    },
    {
      "cell_type": "code",
      "source": [
        "medida = float(input('Uma distância em metros: '))\n",
        "cm = medida * 100\n",
        "mm = medida * 1000\n",
        "print ('A media em {}m corresponde a {:.0f}cm e {:.0f}mm'.format(medida, cm, mm))"
      ],
      "metadata": {
        "colab": {
          "base_uri": "https://localhost:8080/"
        },
        "id": "ofuPxT77r-h-",
        "outputId": "93d1602d-da3a-4f36-e77c-a8cfe21d19ef"
      },
      "execution_count": 36,
      "outputs": [
        {
          "output_type": "stream",
          "name": "stdout",
          "text": [
            "Uma distância em metros: 2.5\n",
            "A media em 2.5m corresponde a 250cm e 2500mm\n"
          ]
        }
      ]
    }
  ]
}
