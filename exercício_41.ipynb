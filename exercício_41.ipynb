{
  "nbformat": 4,
  "nbformat_minor": 0,
  "metadata": {
    "colab": {
      "provenance": [],
      "authorship_tag": "ABX9TyNoGapTmrjNjv6nHvJKELWm",
      "include_colab_link": true
    },
    "kernelspec": {
      "name": "python3",
      "display_name": "Python 3"
    },
    "language_info": {
      "name": "python"
    }
  },
  "cells": [
    {
      "cell_type": "markdown",
      "metadata": {
        "id": "view-in-github",
        "colab_type": "text"
      },
      "source": [
        "<a href=\"https://colab.research.google.com/github/JeffersonRodrigues9/exercicios-python-diarios/blob/main/exerc%C3%ADcio_41.ipynb\" target=\"_parent\"><img src=\"https://colab.research.google.com/assets/colab-badge.svg\" alt=\"Open In Colab\"/></a>"
      ]
    },
    {
      "cell_type": "code",
      "source": [
        "# A confederação nacional de natação precisa de um programa que leia o ano do nascimento de um atleta e mostre sua categoria, de acordo com a idade:\n",
        "# Até 9 anos: MIRIM\n",
        "# Até 14 nos: Infantil\n",
        "# Até 19 anos: Junior\n",
        "# Até 25 anos: Sênior\n",
        "# Acima: Master"
      ],
      "metadata": {
        "id": "D0rVCoxdSv3p"
      },
      "execution_count": 1,
      "outputs": []
    },
    {
      "cell_type": "code",
      "source": [
        "from datetime import date\n",
        "atual = date.today().year\n",
        "nascimento = int(input('Anos de nascimento:'))\n",
        "idade = atual - nascimento\n",
        "print('O atleta tem {} anos.'.format(idade))\n",
        "if idade <= 9:\n",
        "  print('Classificação: MIRIM')\n",
        "if idade <= 14:\n",
        "  print('Classificação: INFANTIL')\n",
        "if idade <= 19:\n",
        "  print('Classificação: JUNIOR')\n",
        "if idade <= 25:\n",
        "  print('Classificação: SÊNIOR')\n",
        "else:\n",
        "  print('Classificação: MASTER')"
      ],
      "metadata": {
        "colab": {
          "base_uri": "https://localhost:8080/"
        },
        "id": "88f_9P_uSv_g",
        "outputId": "a39f2e2d-e4c4-4b30-8a68-106ac31759a9"
      },
      "execution_count": 6,
      "outputs": [
        {
          "output_type": "stream",
          "name": "stdout",
          "text": [
            "Anos de nascimento:2000\n",
            "O atleta tem 25 anos.\n",
            "Classificação: SÊNIOR\n"
          ]
        }
      ]
    }
  ]
}